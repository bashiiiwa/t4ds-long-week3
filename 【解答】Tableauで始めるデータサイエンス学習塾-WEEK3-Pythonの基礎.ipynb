{
 "cells": [
  {
   "cell_type": "markdown",
   "metadata": {},
   "source": [
    "# Python の基礎 （解答）"
   ]
  },
  {
   "cell_type": "markdown",
   "metadata": {},
   "source": [
    "まずは簡単な足し算・引き算をしていきましょう。\n",
    "まずは、足し算、引き算です。数学の記号と同様に足し算には+、引き算には-を使用します。注意点として、プログラミングでは、基本的にすべてのアルファベット、記号には半角を用います。全角を用いるとエラーが起きてしまうのでご注意ください。\n",
    "\n"
   ]
  },
  {
   "cell_type": "markdown",
   "metadata": {},
   "source": [
    "jupyter notebookにて以下のようにコードを打ち、「shift + Enter（return）」で実行してください。"
   ]
  },
  {
   "cell_type": "markdown",
   "metadata": {},
   "source": [
    "## 計算の基礎"
   ]
  },
  {
   "cell_type": "markdown",
   "metadata": {},
   "source": [
    "### 足し算"
   ]
  },
  {
   "cell_type": "code",
   "execution_count": 1,
   "metadata": {},
   "outputs": [
    {
     "data": {
      "text/plain": [
       "12"
      ]
     },
     "execution_count": 1,
     "metadata": {},
     "output_type": "execute_result"
    }
   ],
   "source": [
    "10+2"
   ]
  },
  {
   "cell_type": "markdown",
   "metadata": {},
   "source": [
    "### 掛け算・割り算"
   ]
  },
  {
   "cell_type": "markdown",
   "metadata": {},
   "source": [
    "掛け算、割り算について見ていきましょう。先程までとは違い、数学とは異なる記号を用います。掛け算は*（アスタリスク）、割り算は/（スラッシュ）です。まずは、100 * 1.08 を計算してみましょう。"
   ]
  },
  {
   "cell_type": "code",
   "execution_count": 2,
   "metadata": {},
   "outputs": [
    {
     "data": {
      "text/plain": [
       "108.0"
      ]
     },
     "execution_count": 2,
     "metadata": {},
     "output_type": "execute_result"
    }
   ],
   "source": [
    "100 * 1.08 "
   ]
  },
  {
   "cell_type": "markdown",
   "metadata": {},
   "source": [
    "### べき乗\n",
    "最後はべき乗になります。2の3 乗や5の4 乗といったべき乗は**で表現します。\n"
   ]
  },
  {
   "cell_type": "code",
   "execution_count": 3,
   "metadata": {},
   "outputs": [
    {
     "data": {
      "text/plain": [
       "8"
      ]
     },
     "execution_count": 3,
     "metadata": {},
     "output_type": "execute_result"
    }
   ],
   "source": [
    "2**3"
   ]
  },
  {
   "cell_type": "markdown",
   "metadata": {},
   "source": [
    "### 変数\n",
    "プログラミングで非常に重要な概念となる変数についてお伝えします。\n",
    "何か計算した結果を後々使用するために保持していたり、頻繁に用いるような値を格納しておくために便利なのが変数です。計算結果等を保持するための箱をイメージしていただけるとわかりやすいです。例として、「3」という数値を「a 」という変数に格納する場合を見ていきます。\n",
    "![変数](./images/hensu.png)\n"
   ]
  },
  {
   "cell_type": "code",
   "execution_count": 4,
   "metadata": {},
   "outputs": [],
   "source": [
    "a =3"
   ]
  },
  {
   "cell_type": "markdown",
   "metadata": {},
   "source": [
    "print(a) で中身を確認します。"
   ]
  },
  {
   "cell_type": "code",
   "execution_count": 5,
   "metadata": {},
   "outputs": [
    {
     "name": "stdout",
     "output_type": "stream",
     "text": [
      "3\n"
     ]
    }
   ],
   "source": [
    "print(a)"
   ]
  },
  {
   "cell_type": "markdown",
   "metadata": {},
   "source": [
    "「print( )」は( )内に記述した変数や値を表示するPythonの機能です。Pythonにはこのような機能がたくさんありますが、専門用語で関数と呼びます。非常に重要な概念ですので名前だけでも覚えていただければと思います。\n",
    "　他の変数も書いてみましょう。10を変数bに代入します\n"
   ]
  },
  {
   "cell_type": "code",
   "execution_count": 6,
   "metadata": {},
   "outputs": [],
   "source": [
    "b = 10"
   ]
  },
  {
   "cell_type": "markdown",
   "metadata": {},
   "source": [
    "　a、bという変数を作成しましたが、実際に変数名には意味のある名前を付けるのが\n",
    "一般的です。例えば、100 円のノートを購入するとしましょう。（2019 年9月までの）購\n",
    "入時には消費税8%が加えられるので、実質108 円になります。これをコードで記述すると以下のようなイメージになります。\n",
    "価格を「price」、消費税を「tax」という変数名にするのは、問題設定と合致していてイメージしやすいですよね。このように、その変数に何が入っているかわかるように変数名を記述するのがポイントです。他の人が自分のコードを見ても、「この変数は〇〇の値が入っているんだね」と理解してもらえるのが理想です。\n"
   ]
  },
  {
   "cell_type": "markdown",
   "metadata": {},
   "source": [
    "___\n",
    "§　ワーク１\n",
    "\n",
    "①　価格について “price” という名前の変数を作成し 100　を代入します。\n",
    "\n",
    "②　消費税について”tax”という名前の変数を作成し、 1.08 を代入します。\n",
    "\n",
    "③　①x②で価格を計算してください。\n",
    "\n",
    "④　3,900　円の本　と　1,200円の本を消費税10％で購入した場合の金額はいくらですか？　 \n",
    "___\n"
   ]
  },
  {
   "cell_type": "code",
   "execution_count": 7,
   "metadata": {},
   "outputs": [],
   "source": [
    "#価格\n",
    "price = 3900 + 1200\n",
    "\n",
    "#消費税\n",
    "tax =1.1 "
   ]
  },
  {
   "cell_type": "code",
   "execution_count": 8,
   "metadata": {},
   "outputs": [
    {
     "data": {
      "text/plain": [
       "5610.0"
      ]
     },
     "execution_count": 8,
     "metadata": {},
     "output_type": "execute_result"
    }
   ],
   "source": [
    "price * tax"
   ]
  },
  {
   "cell_type": "markdown",
   "metadata": {},
   "source": [
    "## データ型\n",
    "コンピューターが扱っているデータというものには型があります。例えるならば、日本語や英語って、大きな括りでいうと言語になりますよね。 この言語の中にも日本語や英語だけではなく、ドイツ語、フランス語という々な「タイプ」（型）があります。それらと同様に、データの中にも数値があったり文字があったりします。数値の中には整数があったり、小数があったりという風に、データも一括りにできるわけではなく、色々な型があります。このようなデータの型のことをデータ型と呼びます。\n"
   ]
  },
  {
   "cell_type": "markdown",
   "metadata": {},
   "source": [
    "#### 数値型\n",
    "　まずは、今まで扱ってきた数値について見ていきましょう。\n",
    " \n",
    "##### 整数\n",
    "　まずは、数値型の1つである整数についてです。Pythonでは整数のことをint（integer ）でよく表現します。　以下の120という数値のデータ型は整数であり、コード上でデータ型を確認したい際には「type( ) 」を用います。\n"
   ]
  },
  {
   "cell_type": "code",
   "execution_count": 3,
   "metadata": {},
   "outputs": [],
   "source": [
    "#a = 120"
   ]
  },
  {
   "cell_type": "code",
   "execution_count": 4,
   "metadata": {},
   "outputs": [],
   "source": [
    "#type(a)"
   ]
  },
  {
   "cell_type": "markdown",
   "metadata": {},
   "source": [
    "#### 浮動小数点数（小数）\n",
    "　数値型の1つである浮動小数点数は、いわゆる小数のことです。浮動小数点数のことをfloatで表現します。整数同様に「type( ) 」でデータ型を確認してみましょう\n"
   ]
  },
  {
   "cell_type": "code",
   "execution_count": 5,
   "metadata": {},
   "outputs": [],
   "source": [
    "#a =1.01"
   ]
  },
  {
   "cell_type": "code",
   "execution_count": 6,
   "metadata": {},
   "outputs": [],
   "source": [
    "#type(a)"
   ]
  },
  {
   "cell_type": "markdown",
   "metadata": {},
   "source": [
    "#### 文字列型\n",
    "文字列型はstr（string ） で表現します。\n"
   ]
  },
  {
   "cell_type": "code",
   "execution_count": 7,
   "metadata": {},
   "outputs": [],
   "source": [
    "#name = 'bashii'"
   ]
  },
  {
   "cell_type": "code",
   "execution_count": 8,
   "metadata": {},
   "outputs": [],
   "source": [
    "#type(name)"
   ]
  },
  {
   "cell_type": "markdown",
   "metadata": {},
   "source": [
    "数値であっても”文字型”に変換することは可能です。"
   ]
  },
  {
   "cell_type": "code",
   "execution_count": 9,
   "metadata": {},
   "outputs": [],
   "source": [
    "#a= str(a)"
   ]
  },
  {
   "cell_type": "code",
   "execution_count": 10,
   "metadata": {},
   "outputs": [],
   "source": [
    "#a"
   ]
  },
  {
   "cell_type": "code",
   "execution_count": 11,
   "metadata": {},
   "outputs": [],
   "source": [
    "#type(a)"
   ]
  },
  {
   "cell_type": "markdown",
   "metadata": {},
   "source": [
    "## 複数データの扱い\n",
    "今までは1つの値のみを格納するデータ型についてお伝えしてきましたが、複数の値を扱うデータ型についてもお伝えいたします"
   ]
  },
  {
   "cell_type": "markdown",
   "metadata": {},
   "source": [
    "### リスト型\n",
    "1つ目がリスト型です。使い方等の詳細は次節にてお伝えしますが、リスト型を扱う\n",
    "際は[ ]内に格納したい複数の値を「, 」区切りで入れます。これがリスト型の定義の\n",
    "仕方になります。\n"
   ]
  },
  {
   "cell_type": "code",
   "execution_count": 13,
   "metadata": {},
   "outputs": [],
   "source": [
    "#c = [10,20,30]\n",
    "#c"
   ]
  },
  {
   "cell_type": "code",
   "execution_count": 14,
   "metadata": {},
   "outputs": [],
   "source": [
    "#type(c)"
   ]
  },
  {
   "cell_type": "markdown",
   "metadata": {},
   "source": [
    "### リスト型の扱い\n",
    "リスト型は、以下のように[ ]内に,区切りで格納したい値を記述します。例として、学校の3 科目のテストの点数、国語50点、数学80点、英語60点の値をリストでまとめるとしましょう。テストの点数をまとめるので変数名をscoresにします。\n"
   ]
  },
  {
   "cell_type": "code",
   "execution_count": 15,
   "metadata": {},
   "outputs": [],
   "source": [
    "#scores = [50,80,60]"
   ]
  },
  {
   "cell_type": "markdown",
   "metadata": {},
   "source": [
    "このリスト（リスト型の変数名のこと）に格納されている各値のことを要素と呼びます\n",
    "リストの一番目を取り出すには　\n",
    "scores[0]  と打ちます。\n",
    "最後は scores[-1] になります。\n",
    "\n",
    "![scores-list](./images/scores-list.png)"
   ]
  },
  {
   "cell_type": "code",
   "execution_count": 16,
   "metadata": {},
   "outputs": [],
   "source": [
    "#scores[0:2]"
   ]
  },
  {
   "cell_type": "markdown",
   "metadata": {},
   "source": [
    "上記は「0 番目の要素から2 番目の要素までを取り出す」という意味に\n",
    "なりそうですが、実際には「0 番目の要素から2 番目の要素の1つ前の要素までを取り\n",
    "出す」になります。\n",
    "\n",
    "したがって、0 番目の要素である50、2 番目の要素の1つ前の要素\n",
    "つまり1番目の要素である80までを取り出すことを意味します。\n",
    "\n",
    "\n",
    "まとめると、変数名[ 開始位置: 終了位置の1つ後]で抽出することができます。\n",
    "また、開始位置の要素番号が0である場合は、以下のように省略することも可能です。\n"
   ]
  },
  {
   "cell_type": "code",
   "execution_count": 17,
   "metadata": {},
   "outputs": [],
   "source": [
    "#scores[:2]"
   ]
  },
  {
   "cell_type": "markdown",
   "metadata": {},
   "source": [
    "以下も同じ要素の抽出方法になります。"
   ]
  },
  {
   "cell_type": "code",
   "execution_count": 18,
   "metadata": {},
   "outputs": [],
   "source": [
    "#scores[:-1]"
   ]
  },
  {
   "cell_type": "markdown",
   "metadata": {},
   "source": [
    "___\n",
    "§　ワーク\n",
    "\n",
    "①　1月から6月までの名前のリストを作ってください。 -> Jan, Feb, Mar, Apr, May, Jun \n",
    "\n",
    "②　1月から3月までを取り出してください\n",
    "\n",
    "③　6月（最後の一つ以外）を取り出してください\n",
    "___"
   ]
  },
  {
   "cell_type": "code",
   "execution_count": 19,
   "metadata": {},
   "outputs": [],
   "source": [
    "#month = ['Jun', 'Feb', 'Mar', 'Apr', 'May', 'Jun']"
   ]
  },
  {
   "cell_type": "code",
   "execution_count": 20,
   "metadata": {},
   "outputs": [],
   "source": [
    "#type(month)"
   ]
  },
  {
   "cell_type": "code",
   "execution_count": 21,
   "metadata": {},
   "outputs": [],
   "source": [
    "# 3 から一つ前の 0,1,2 が取得される\n",
    "#month[0:3]"
   ]
  },
  {
   "cell_type": "code",
   "execution_count": 81,
   "metadata": {},
   "outputs": [],
   "source": [
    "#0は省略できる\n",
    "#month[:3]"
   ]
  },
  {
   "cell_type": "code",
   "execution_count": 82,
   "metadata": {},
   "outputs": [],
   "source": [
    "#最後の一つ　を　除いて・・・という書き方が楽\n",
    "#month[:-1]"
   ]
  },
  {
   "cell_type": "markdown",
   "metadata": {},
   "source": [
    "### 辞書型　→　ここはまたあとで必要になったときにやりましょう。\n",
    "　複数のデータを扱う際に、辞書型というデータ型も存在します。辞書型は、{ }で定義します。こちらは魏リッドサーチという最適な機械学習のハイパーパラメータを探す際に利用しますので、またその時に思い出しましょう。ここではデータ型の1つとして存在することを覚えておいてください。"
   ]
  },
  {
   "cell_type": "code",
   "execution_count": 22,
   "metadata": {},
   "outputs": [],
   "source": [
    "#辞書型の練習\n",
    "#person = {'firstname':'iwahashi','lastname':'tomohiro','nickname':'bashii'}"
   ]
  },
  {
   "cell_type": "code",
   "execution_count": 23,
   "metadata": {},
   "outputs": [],
   "source": [
    "#person[\"nickname\"]"
   ]
  },
  {
   "cell_type": "code",
   "execution_count": 24,
   "metadata": {},
   "outputs": [],
   "source": [
    "# 辞書型については .items を使って以下のような使い方ができます。\n",
    "#for key,value in person.items():\n",
    "#    print('私の' + '{}'.format(key) + 'は、'+ '{}'.format(value) +'です。')\n"
   ]
  },
  {
   "cell_type": "markdown",
   "metadata": {},
   "source": [
    "## Numpyの利用\n",
    "数学的な計算を行う場合NumpyのArray形にします。"
   ]
  },
  {
   "cell_type": "markdown",
   "metadata": {},
   "source": [
    "List型どうしを足し算してみましょう。例えば\n",
    "\n",
    "hundred = [100,200,300]\n",
    "\n",
    "ten = [10,20,30]\n",
    "\n",
    "hundred + ten\n"
   ]
  },
  {
   "cell_type": "code",
   "execution_count": 25,
   "metadata": {},
   "outputs": [],
   "source": [
    "#hundred = [100,200,300]"
   ]
  },
  {
   "cell_type": "code",
   "execution_count": 26,
   "metadata": {},
   "outputs": [],
   "source": [
    "#ten = [10,20,30]"
   ]
  },
  {
   "cell_type": "code",
   "execution_count": 27,
   "metadata": {},
   "outputs": [],
   "source": [
    "#hundred + ten"
   ]
  },
  {
   "cell_type": "code",
   "execution_count": 28,
   "metadata": {},
   "outputs": [],
   "source": [
    "#type(hundred)"
   ]
  },
  {
   "cell_type": "markdown",
   "metadata": {},
   "source": [
    "思った通りに行きませんね・・・　数学的な計算（行列計算）はNumpyを利用します。"
   ]
  },
  {
   "cell_type": "code",
   "execution_count": 37,
   "metadata": {},
   "outputs": [],
   "source": [
    "# 必要なパッケージは import します。→　とても重要です！\n",
    "# as xx と名前を付けます。\n",
    "\n",
    "#import numpy as np"
   ]
  },
  {
   "cell_type": "code",
   "execution_count": 30,
   "metadata": {},
   "outputs": [],
   "source": [
    "# np.array で Numpy 型に変換します。\n",
    "#hundred_a = np.array(hundred)"
   ]
  },
  {
   "cell_type": "code",
   "execution_count": 31,
   "metadata": {},
   "outputs": [],
   "source": [
    "#type(hundred_a)\n",
    "# ndarray に変わりましたね。"
   ]
  },
  {
   "cell_type": "code",
   "execution_count": 33,
   "metadata": {},
   "outputs": [],
   "source": [
    "# こちらもnp.array で Numpy 型に変換します。\n",
    "#ten_a =np.array(ten)"
   ]
  },
  {
   "cell_type": "code",
   "execution_count": 34,
   "metadata": {},
   "outputs": [],
   "source": [
    "#足し算してみましょう\n",
    "#hundred_a +  ten_a"
   ]
  },
  {
   "cell_type": "markdown",
   "metadata": {},
   "source": [
    "### 補足\n",
    "\n",
    "※　ここは補足です：興味のある方だけ確認ください。　\n",
    "\n",
    "―　Numpyを使った行列計算について　ー　\n",
    "\n",
    "参考：　https://teratail.com/questions/234871"
   ]
  },
  {
   "cell_type": "code",
   "execution_count": 38,
   "metadata": {},
   "outputs": [],
   "source": [
    "# Nunpy をつかうと行列計算ができるのです。\n",
    "A = np.asarray([[1,2],[3,4]])"
   ]
  },
  {
   "cell_type": "code",
   "execution_count": 42,
   "metadata": {},
   "outputs": [],
   "source": [
    "# .Tは転置という意味です。\n",
    "#x = np.asarray([[1,2]]).T"
   ]
  },
  {
   "cell_type": "code",
   "execution_count": 43,
   "metadata": {},
   "outputs": [],
   "source": [
    "# dot はベクトルの掛け算です。\n",
    "#A.dot(x)"
   ]
  },
  {
   "cell_type": "code",
   "execution_count": 46,
   "metadata": {},
   "outputs": [],
   "source": [
    "#逆行列も計算できます。\n",
    "#A_inv = np.linalg.inv(A)"
   ]
  },
  {
   "cell_type": "code",
   "execution_count": 47,
   "metadata": {},
   "outputs": [],
   "source": [
    "#A_inv"
   ]
  },
  {
   "cell_type": "code",
   "execution_count": 48,
   "metadata": {},
   "outputs": [],
   "source": [
    "#逆行列はかけたら単位行列になるのでしたね！？　→　計算がデジタルのため若干０になりません。\n",
    "#A.dot(A_inv)"
   ]
  },
  {
   "cell_type": "markdown",
   "metadata": {},
   "source": [
    "Numpyを使わなくても、FOR文でいけるかもしれませんね。"
   ]
  },
  {
   "cell_type": "code",
   "execution_count": 49,
   "metadata": {},
   "outputs": [],
   "source": [
    "#h_t = zip(hundred,ten)\n",
    "#for i in h_t:\n",
    "#    print (i[0] + i[1])"
   ]
  },
  {
   "cell_type": "markdown",
   "metadata": {},
   "source": [
    "## Pandas の利用方法\n",
    "\n",
    "### pandasとは\n",
    "　pandas（パンダス）とは、Pythonの外部パッケージです。パッケージとは、簡単にお伝えすると「便利な機能をあつめたツール群」のことを指します。他の言語ではライブラリと呼んだりもします。Pythonには、pandasの他にも様々なパッケージがあり、様々な用途に応じたパッケージを使用することで目的を素早く終える手助けをしてくれます。\n",
    " \n"
   ]
  },
  {
   "cell_type": "code",
   "execution_count": 55,
   "metadata": {},
   "outputs": [],
   "source": [
    "#モジュールを読み込む際にはimport文を使用します。import モジュール名で読み込むことができます\n",
    "import pandas as pd"
   ]
  },
  {
   "cell_type": "markdown",
   "metadata": {},
   "source": [
    "### DataFrame型\n",
    "　次にDataFrame型を見ていきましょう。「pd.DataFrame(2次元データ) 」で定義することができます。「df」（dataframeの略）という変数で定義しましょう。"
   ]
  },
  {
   "cell_type": "code",
   "execution_count": 56,
   "metadata": {},
   "outputs": [],
   "source": [
    "df = pd.DataFrame([[1,2,3],[4,5,6],[7,8,9]])"
   ]
  },
  {
   "cell_type": "code",
   "execution_count": 57,
   "metadata": {},
   "outputs": [
    {
     "data": {
      "text/html": [
       "<div>\n",
       "<style scoped>\n",
       "    .dataframe tbody tr th:only-of-type {\n",
       "        vertical-align: middle;\n",
       "    }\n",
       "\n",
       "    .dataframe tbody tr th {\n",
       "        vertical-align: top;\n",
       "    }\n",
       "\n",
       "    .dataframe thead th {\n",
       "        text-align: right;\n",
       "    }\n",
       "</style>\n",
       "<table border=\"1\" class=\"dataframe\">\n",
       "  <thead>\n",
       "    <tr style=\"text-align: right;\">\n",
       "      <th></th>\n",
       "      <th>0</th>\n",
       "      <th>1</th>\n",
       "      <th>2</th>\n",
       "    </tr>\n",
       "  </thead>\n",
       "  <tbody>\n",
       "    <tr>\n",
       "      <td>0</td>\n",
       "      <td>1</td>\n",
       "      <td>2</td>\n",
       "      <td>3</td>\n",
       "    </tr>\n",
       "    <tr>\n",
       "      <td>1</td>\n",
       "      <td>4</td>\n",
       "      <td>5</td>\n",
       "      <td>6</td>\n",
       "    </tr>\n",
       "    <tr>\n",
       "      <td>2</td>\n",
       "      <td>7</td>\n",
       "      <td>8</td>\n",
       "      <td>9</td>\n",
       "    </tr>\n",
       "  </tbody>\n",
       "</table>\n",
       "</div>"
      ],
      "text/plain": [
       "   0  1  2\n",
       "0  1  2  3\n",
       "1  4  5  6\n",
       "2  7  8  9"
      ]
     },
     "execution_count": 57,
     "metadata": {},
     "output_type": "execute_result"
    }
   ],
   "source": [
    "df"
   ]
  },
  {
   "cell_type": "markdown",
   "metadata": {},
   "source": [
    "上記の( ) 内が少しわかりにくいですが、以下のようにリストを二重で用いて2 次元\n",
    "データを表現しています。\n",
    "\n",
    "![2次元データの作成](images/pandas-1.png)"
   ]
  },
  {
   "cell_type": "markdown",
   "metadata": {},
   "source": [
    "type()でDataFrame型になっていることを確認しましょう。"
   ]
  },
  {
   "cell_type": "code",
   "execution_count": 58,
   "metadata": {},
   "outputs": [
    {
     "data": {
      "text/plain": [
       "pandas.core.frame.DataFrame"
      ]
     },
     "execution_count": 58,
     "metadata": {},
     "output_type": "execute_result"
    }
   ],
   "source": [
    "type(df)"
   ]
  },
  {
   "cell_type": "markdown",
   "metadata": {},
   "source": [
    "### csvファイルの読み込み、書き出し\n",
    "DataFrame型ともに定義の仕方をお伝えしましたが、先程のように自ら値を入れて定義するというのは稀です。 実際は、csvファイルやデータベース等からpandasの形式でデータを読み込むことが一般的です。今回はcsvファイルからのデータ読み込み、書き出しについてお伝えします。"
   ]
  },
  {
   "cell_type": "code",
   "execution_count": 59,
   "metadata": {},
   "outputs": [
    {
     "name": "stdout",
     "output_type": "stream",
     "text": [
      " ドライブ C のボリューム ラベルは Windows です\n",
      " ボリューム シリアル番号は 2CB0-A238 です\n",
      "\n",
      " C:\\Users\\USER\\Documents\\iwahashi\\iwahashi\\splineglobal\\TableauDS学習塾\\long3\\week3\\tableau4ds_work のディレクトリ\n",
      "\n",
      "2020/05/26  15:05    <DIR>          .\n",
      "2020/05/26  15:05    <DIR>          ..\n",
      "2020/05/26  14:56    <DIR>          .ipynb_checkpoints\n",
      "2020/03/18  20:27           100,820 【ワーク】Tableauで始めるデータサイエンス学習塾-WEEK3-Pythonの基礎_20200318.ipynb\n",
      "2020/03/18  21:14           162,588 【ワーク】Tableauで始めるデータサイエンス学習塾-WEEK3-機械学習の基礎_20200318.ipynb\n",
      "2020/05/26  15:05            75,851 【解答】Tableauで始めるデータサイエンス学習塾-WEEK3-Pythonの基礎_20200318.ipynb\n",
      "2020/03/23  21:19           149,892 【解答】Tableauで始めるデータサイエンス学習塾-WEEK3-機械学習の基礎_20200318.ipynb\n",
      "2020/03/18  01:13            87,451 Chapter10.ipynb\n",
      "2020/05/26  14:56    <DIR>          data\n",
      "2020/03/18  03:24               908 export.csv\n",
      "2020/03/18  20:16               908 export_iwahashi.csv\n",
      "2020/03/17  16:29           133,059 housing_tokyo_chuo_line_week3.csv\n",
      "2020/05/26  14:56    <DIR>          images\n",
      "2020/03/22  18:17           202,627 results.LinearRegression.csv\n",
      "               9 個のファイル             914,104 バイト\n",
      "               5 個のディレクトリ  74,696,462,336 バイトの空き領域\n"
     ]
    }
   ],
   "source": [
    "ls"
   ]
  },
  {
   "cell_type": "markdown",
   "metadata": {},
   "source": [
    "pd.read_csv（ファイルまでのパス）でcsvを読み込むことができますが、今回は実行ファイルとcsvファイルが同\n",
    "フォルダ内に格納されているため、ファイル名の指定のみで読み込むことができます。 \"housing_tokyo_chuo_line_week3.csv\" を読み込みます。"
   ]
  },
  {
   "cell_type": "code",
   "execution_count": 60,
   "metadata": {},
   "outputs": [],
   "source": [
    "df =  pd.read_csv(\"housing_tokyo_chuo_line_week3.csv\")"
   ]
  },
  {
   "cell_type": "code",
   "execution_count": 61,
   "metadata": {},
   "outputs": [
    {
     "data": {
      "text/html": [
       "<div>\n",
       "<style scoped>\n",
       "    .dataframe tbody tr th:only-of-type {\n",
       "        vertical-align: middle;\n",
       "    }\n",
       "\n",
       "    .dataframe tbody tr th {\n",
       "        vertical-align: top;\n",
       "    }\n",
       "\n",
       "    .dataframe thead th {\n",
       "        text-align: right;\n",
       "    }\n",
       "</style>\n",
       "<table border=\"1\" class=\"dataframe\">\n",
       "  <thead>\n",
       "    <tr style=\"text-align: right;\">\n",
       "      <th></th>\n",
       "      <th>uid</th>\n",
       "      <th>years</th>\n",
       "      <th>minutes</th>\n",
       "      <th>sqrm</th>\n",
       "      <th>distance</th>\n",
       "      <th>renovate</th>\n",
       "      <th>express</th>\n",
       "      <th>price</th>\n",
       "    </tr>\n",
       "  </thead>\n",
       "  <tbody>\n",
       "    <tr>\n",
       "      <td>0</td>\n",
       "      <td>13101-1</td>\n",
       "      <td>34</td>\n",
       "      <td>3</td>\n",
       "      <td>35</td>\n",
       "      <td>2.983801</td>\n",
       "      <td>0</td>\n",
       "      <td>0</td>\n",
       "      <td>24000000</td>\n",
       "    </tr>\n",
       "    <tr>\n",
       "      <td>1</td>\n",
       "      <td>13101-2</td>\n",
       "      <td>37</td>\n",
       "      <td>4</td>\n",
       "      <td>20</td>\n",
       "      <td>2.983801</td>\n",
       "      <td>0</td>\n",
       "      <td>0</td>\n",
       "      <td>13000000</td>\n",
       "    </tr>\n",
       "    <tr>\n",
       "      <td>2</td>\n",
       "      <td>13101-4</td>\n",
       "      <td>34</td>\n",
       "      <td>3</td>\n",
       "      <td>30</td>\n",
       "      <td>2.983801</td>\n",
       "      <td>0</td>\n",
       "      <td>0</td>\n",
       "      <td>22000000</td>\n",
       "    </tr>\n",
       "    <tr>\n",
       "      <td>3</td>\n",
       "      <td>13101-5</td>\n",
       "      <td>35</td>\n",
       "      <td>1</td>\n",
       "      <td>70</td>\n",
       "      <td>2.983801</td>\n",
       "      <td>0</td>\n",
       "      <td>0</td>\n",
       "      <td>69000000</td>\n",
       "    </tr>\n",
       "    <tr>\n",
       "      <td>4</td>\n",
       "      <td>13101-6</td>\n",
       "      <td>34</td>\n",
       "      <td>3</td>\n",
       "      <td>25</td>\n",
       "      <td>2.983801</td>\n",
       "      <td>0</td>\n",
       "      <td>0</td>\n",
       "      <td>21000000</td>\n",
       "    </tr>\n",
       "    <tr>\n",
       "      <td>...</td>\n",
       "      <td>...</td>\n",
       "      <td>...</td>\n",
       "      <td>...</td>\n",
       "      <td>...</td>\n",
       "      <td>...</td>\n",
       "      <td>...</td>\n",
       "      <td>...</td>\n",
       "      <td>...</td>\n",
       "    </tr>\n",
       "    <tr>\n",
       "      <td>2994</td>\n",
       "      <td>13214-847</td>\n",
       "      <td>19</td>\n",
       "      <td>4</td>\n",
       "      <td>20</td>\n",
       "      <td>25.956039</td>\n",
       "      <td>0</td>\n",
       "      <td>1</td>\n",
       "      <td>17000000</td>\n",
       "    </tr>\n",
       "    <tr>\n",
       "      <td>2995</td>\n",
       "      <td>13214-848</td>\n",
       "      <td>21</td>\n",
       "      <td>1</td>\n",
       "      <td>80</td>\n",
       "      <td>25.956039</td>\n",
       "      <td>0</td>\n",
       "      <td>1</td>\n",
       "      <td>65000000</td>\n",
       "    </tr>\n",
       "    <tr>\n",
       "      <td>2996</td>\n",
       "      <td>13214-849</td>\n",
       "      <td>21</td>\n",
       "      <td>1</td>\n",
       "      <td>65</td>\n",
       "      <td>25.956039</td>\n",
       "      <td>0</td>\n",
       "      <td>1</td>\n",
       "      <td>42000000</td>\n",
       "    </tr>\n",
       "    <tr>\n",
       "      <td>2997</td>\n",
       "      <td>13214-850</td>\n",
       "      <td>15</td>\n",
       "      <td>3</td>\n",
       "      <td>25</td>\n",
       "      <td>25.956039</td>\n",
       "      <td>0</td>\n",
       "      <td>1</td>\n",
       "      <td>19000000</td>\n",
       "    </tr>\n",
       "    <tr>\n",
       "      <td>2998</td>\n",
       "      <td>13214-851</td>\n",
       "      <td>14</td>\n",
       "      <td>2</td>\n",
       "      <td>20</td>\n",
       "      <td>25.956039</td>\n",
       "      <td>0</td>\n",
       "      <td>1</td>\n",
       "      <td>14000000</td>\n",
       "    </tr>\n",
       "  </tbody>\n",
       "</table>\n",
       "<p>2999 rows × 8 columns</p>\n",
       "</div>"
      ],
      "text/plain": [
       "            uid  years  minutes  sqrm   distance  renovate  express     price\n",
       "0       13101-1     34        3    35   2.983801         0        0  24000000\n",
       "1       13101-2     37        4    20   2.983801         0        0  13000000\n",
       "2       13101-4     34        3    30   2.983801         0        0  22000000\n",
       "3       13101-5     35        1    70   2.983801         0        0  69000000\n",
       "4       13101-6     34        3    25   2.983801         0        0  21000000\n",
       "...         ...    ...      ...   ...        ...       ...      ...       ...\n",
       "2994  13214-847     19        4    20  25.956039         0        1  17000000\n",
       "2995  13214-848     21        1    80  25.956039         0        1  65000000\n",
       "2996  13214-849     21        1    65  25.956039         0        1  42000000\n",
       "2997  13214-850     15        3    25  25.956039         0        1  19000000\n",
       "2998  13214-851     14        2    20  25.956039         0        1  14000000\n",
       "\n",
       "[2999 rows x 8 columns]"
      ]
     },
     "execution_count": 61,
     "metadata": {},
     "output_type": "execute_result"
    }
   ],
   "source": [
    "#中身を確認します\n",
    "df"
   ]
  },
  {
   "cell_type": "code",
   "execution_count": 62,
   "metadata": {},
   "outputs": [
    {
     "data": {
      "text/html": [
       "<div>\n",
       "<style scoped>\n",
       "    .dataframe tbody tr th:only-of-type {\n",
       "        vertical-align: middle;\n",
       "    }\n",
       "\n",
       "    .dataframe tbody tr th {\n",
       "        vertical-align: top;\n",
       "    }\n",
       "\n",
       "    .dataframe thead th {\n",
       "        text-align: right;\n",
       "    }\n",
       "</style>\n",
       "<table border=\"1\" class=\"dataframe\">\n",
       "  <thead>\n",
       "    <tr style=\"text-align: right;\">\n",
       "      <th></th>\n",
       "      <th>uid</th>\n",
       "      <th>years</th>\n",
       "      <th>minutes</th>\n",
       "      <th>sqrm</th>\n",
       "      <th>distance</th>\n",
       "      <th>renovate</th>\n",
       "      <th>express</th>\n",
       "      <th>price</th>\n",
       "    </tr>\n",
       "  </thead>\n",
       "  <tbody>\n",
       "    <tr>\n",
       "      <td>0</td>\n",
       "      <td>13101-1</td>\n",
       "      <td>34</td>\n",
       "      <td>3</td>\n",
       "      <td>35</td>\n",
       "      <td>2.983801</td>\n",
       "      <td>0</td>\n",
       "      <td>0</td>\n",
       "      <td>24000000</td>\n",
       "    </tr>\n",
       "    <tr>\n",
       "      <td>1</td>\n",
       "      <td>13101-2</td>\n",
       "      <td>37</td>\n",
       "      <td>4</td>\n",
       "      <td>20</td>\n",
       "      <td>2.983801</td>\n",
       "      <td>0</td>\n",
       "      <td>0</td>\n",
       "      <td>13000000</td>\n",
       "    </tr>\n",
       "    <tr>\n",
       "      <td>2</td>\n",
       "      <td>13101-4</td>\n",
       "      <td>34</td>\n",
       "      <td>3</td>\n",
       "      <td>30</td>\n",
       "      <td>2.983801</td>\n",
       "      <td>0</td>\n",
       "      <td>0</td>\n",
       "      <td>22000000</td>\n",
       "    </tr>\n",
       "    <tr>\n",
       "      <td>3</td>\n",
       "      <td>13101-5</td>\n",
       "      <td>35</td>\n",
       "      <td>1</td>\n",
       "      <td>70</td>\n",
       "      <td>2.983801</td>\n",
       "      <td>0</td>\n",
       "      <td>0</td>\n",
       "      <td>69000000</td>\n",
       "    </tr>\n",
       "    <tr>\n",
       "      <td>4</td>\n",
       "      <td>13101-6</td>\n",
       "      <td>34</td>\n",
       "      <td>3</td>\n",
       "      <td>25</td>\n",
       "      <td>2.983801</td>\n",
       "      <td>0</td>\n",
       "      <td>0</td>\n",
       "      <td>21000000</td>\n",
       "    </tr>\n",
       "  </tbody>\n",
       "</table>\n",
       "</div>"
      ],
      "text/plain": [
       "       uid  years  minutes  sqrm  distance  renovate  express     price\n",
       "0  13101-1     34        3    35  2.983801         0        0  24000000\n",
       "1  13101-2     37        4    20  2.983801         0        0  13000000\n",
       "2  13101-4     34        3    30  2.983801         0        0  22000000\n",
       "3  13101-5     35        1    70  2.983801         0        0  69000000\n",
       "4  13101-6     34        3    25  2.983801         0        0  21000000"
      ]
     },
     "execution_count": 62,
     "metadata": {},
     "output_type": "execute_result"
    }
   ],
   "source": [
    "#頭の数行をとるのは head() を使います\n",
    "df.head()"
   ]
  },
  {
   "cell_type": "code",
   "execution_count": 63,
   "metadata": {},
   "outputs": [],
   "source": [
    "#頭の20行をとってexport_dataに書き戻します。\n",
    "export_data = df.head(20)"
   ]
  },
  {
   "cell_type": "markdown",
   "metadata": {},
   "source": [
    "### csvファイルへ書き出し\n",
    "　今作成したexport_dataをcsvに書き出してみましょう。書き出しの際は「to_csv(書き出しファイル名) 」を用います。一番左に表示されている行番号を示すインデック\n",
    "スも書き出されないように「index=False」を指定する必要があります。"
   ]
  },
  {
   "cell_type": "code",
   "execution_count": 64,
   "metadata": {},
   "outputs": [],
   "source": [
    "export_data.to_csv(\"export.csv\", index=False)"
   ]
  },
  {
   "cell_type": "markdown",
   "metadata": {},
   "source": [
    "書き出しに成功すれば、作業フォルダ内にexport.csvというファイルが作成されて\n",
    "いるかと思います。"
   ]
  },
  {
   "cell_type": "code",
   "execution_count": 65,
   "metadata": {},
   "outputs": [],
   "source": [
    "#ls"
   ]
  },
  {
   "cell_type": "markdown",
   "metadata": {},
   "source": [
    "**memo:**\n",
    "\n",
    "• リスト型：データの追加やデータの削除等のシンプルなデータ操作に用い\n",
    "る。多様な機能を持っているわけではないため、複雑な処理には不向き。\n",
    "\n",
    "• NumPy：線形代数演算等の数学的な計算を必要とする際に用いる。内部\n",
    "はC言語で実装されており、計算速度が速い。\n",
    "\n",
    "• pandas：データを結合したり、データの条件抽出をしたり、複雑なデータ\n",
    "整理を行う場合に用いる。NumPyをベースに作られており、多様なデー\n",
    "タ形式に対応できる。"
   ]
  },
  {
   "cell_type": "markdown",
   "metadata": {},
   "source": [
    "### 条件抽出\n",
    "部分抽出\n",
    "　pandasで読み込んだデータの一部を抽出する方法についてお伝えいたします。方法は複数ありますが、カラム名を指定した方法と、iloc[ ]を用いた方法の2つについてお伝えします。例として、先頭2 列や5 列目のみのデータを抽出する方法について見ていきましょう。"
   ]
  },
  {
   "cell_type": "markdown",
   "metadata": {},
   "source": [
    "#### まずはカラム名を指定する方法です。"
   ]
  },
  {
   "cell_type": "code",
   "execution_count": 66,
   "metadata": {},
   "outputs": [
    {
     "data": {
      "text/html": [
       "<div>\n",
       "<style scoped>\n",
       "    .dataframe tbody tr th:only-of-type {\n",
       "        vertical-align: middle;\n",
       "    }\n",
       "\n",
       "    .dataframe tbody tr th {\n",
       "        vertical-align: top;\n",
       "    }\n",
       "\n",
       "    .dataframe thead th {\n",
       "        text-align: right;\n",
       "    }\n",
       "</style>\n",
       "<table border=\"1\" class=\"dataframe\">\n",
       "  <thead>\n",
       "    <tr style=\"text-align: right;\">\n",
       "      <th></th>\n",
       "      <th>years</th>\n",
       "      <th>minutes</th>\n",
       "    </tr>\n",
       "  </thead>\n",
       "  <tbody>\n",
       "    <tr>\n",
       "      <td>0</td>\n",
       "      <td>34</td>\n",
       "      <td>3</td>\n",
       "    </tr>\n",
       "    <tr>\n",
       "      <td>1</td>\n",
       "      <td>37</td>\n",
       "      <td>4</td>\n",
       "    </tr>\n",
       "    <tr>\n",
       "      <td>2</td>\n",
       "      <td>34</td>\n",
       "      <td>3</td>\n",
       "    </tr>\n",
       "    <tr>\n",
       "      <td>3</td>\n",
       "      <td>35</td>\n",
       "      <td>1</td>\n",
       "    </tr>\n",
       "    <tr>\n",
       "      <td>4</td>\n",
       "      <td>34</td>\n",
       "      <td>3</td>\n",
       "    </tr>\n",
       "    <tr>\n",
       "      <td>...</td>\n",
       "      <td>...</td>\n",
       "      <td>...</td>\n",
       "    </tr>\n",
       "    <tr>\n",
       "      <td>2994</td>\n",
       "      <td>19</td>\n",
       "      <td>4</td>\n",
       "    </tr>\n",
       "    <tr>\n",
       "      <td>2995</td>\n",
       "      <td>21</td>\n",
       "      <td>1</td>\n",
       "    </tr>\n",
       "    <tr>\n",
       "      <td>2996</td>\n",
       "      <td>21</td>\n",
       "      <td>1</td>\n",
       "    </tr>\n",
       "    <tr>\n",
       "      <td>2997</td>\n",
       "      <td>15</td>\n",
       "      <td>3</td>\n",
       "    </tr>\n",
       "    <tr>\n",
       "      <td>2998</td>\n",
       "      <td>14</td>\n",
       "      <td>2</td>\n",
       "    </tr>\n",
       "  </tbody>\n",
       "</table>\n",
       "<p>2999 rows × 2 columns</p>\n",
       "</div>"
      ],
      "text/plain": [
       "      years  minutes\n",
       "0        34        3\n",
       "1        37        4\n",
       "2        34        3\n",
       "3        35        1\n",
       "4        34        3\n",
       "...     ...      ...\n",
       "2994     19        4\n",
       "2995     21        1\n",
       "2996     21        1\n",
       "2997     15        3\n",
       "2998     14        2\n",
       "\n",
       "[2999 rows x 2 columns]"
      ]
     },
     "execution_count": 66,
     "metadata": {},
     "output_type": "execute_result"
    }
   ],
   "source": [
    "df[['years','minutes']]"
   ]
  },
  {
   "cell_type": "markdown",
   "metadata": {},
   "source": [
    "しっかりと先頭2 列を抽出することができました。注意点として、2次元データを取\n",
    "得するため、[ ]が二重になっています。[ ]が1つだと1次元データを取り出すことになっ\n",
    "てしまい、エラーが起きてしまいます。"
   ]
  },
  {
   "cell_type": "markdown",
   "metadata": {},
   "source": [
    "#### iloc[ ]を用いた方法\n",
    "　カラム名を指定した方法の場合、複数列抽出する際にすべてのカラム名を記載する必要があります。10 列取得したい場合、10 列分のカラム名を[ ] 内に記載する必要があり、非常に大変です。そこで登場するのがiloc[ ]です。iloc[ ]を用いた抽出方法のイメージは以下のようになります。\n",
    " \n",
    "![iloc](images/iloc.png)"
   ]
  },
  {
   "cell_type": "markdown",
   "metadata": {},
   "source": [
    "早速、先程と同じ列を抽出してみましょう。今回抽出したい行は全てなので、[ ] 内\n",
    "に:と記述します。「: 」は最初から最後まで全てを意味します。列は0 列目から1列目ま\n",
    "でを取得したいので「0:2」となります。指定の仕方はリストと同様です。"
   ]
  },
  {
   "cell_type": "code",
   "execution_count": 67,
   "metadata": {},
   "outputs": [
    {
     "data": {
      "text/html": [
       "<div>\n",
       "<style scoped>\n",
       "    .dataframe tbody tr th:only-of-type {\n",
       "        vertical-align: middle;\n",
       "    }\n",
       "\n",
       "    .dataframe tbody tr th {\n",
       "        vertical-align: top;\n",
       "    }\n",
       "\n",
       "    .dataframe thead th {\n",
       "        text-align: right;\n",
       "    }\n",
       "</style>\n",
       "<table border=\"1\" class=\"dataframe\">\n",
       "  <thead>\n",
       "    <tr style=\"text-align: right;\">\n",
       "      <th></th>\n",
       "      <th>years</th>\n",
       "      <th>minutes</th>\n",
       "    </tr>\n",
       "  </thead>\n",
       "  <tbody>\n",
       "    <tr>\n",
       "      <td>0</td>\n",
       "      <td>34</td>\n",
       "      <td>3</td>\n",
       "    </tr>\n",
       "    <tr>\n",
       "      <td>1</td>\n",
       "      <td>37</td>\n",
       "      <td>4</td>\n",
       "    </tr>\n",
       "    <tr>\n",
       "      <td>2</td>\n",
       "      <td>34</td>\n",
       "      <td>3</td>\n",
       "    </tr>\n",
       "    <tr>\n",
       "      <td>3</td>\n",
       "      <td>35</td>\n",
       "      <td>1</td>\n",
       "    </tr>\n",
       "    <tr>\n",
       "      <td>4</td>\n",
       "      <td>34</td>\n",
       "      <td>3</td>\n",
       "    </tr>\n",
       "    <tr>\n",
       "      <td>...</td>\n",
       "      <td>...</td>\n",
       "      <td>...</td>\n",
       "    </tr>\n",
       "    <tr>\n",
       "      <td>2994</td>\n",
       "      <td>19</td>\n",
       "      <td>4</td>\n",
       "    </tr>\n",
       "    <tr>\n",
       "      <td>2995</td>\n",
       "      <td>21</td>\n",
       "      <td>1</td>\n",
       "    </tr>\n",
       "    <tr>\n",
       "      <td>2996</td>\n",
       "      <td>21</td>\n",
       "      <td>1</td>\n",
       "    </tr>\n",
       "    <tr>\n",
       "      <td>2997</td>\n",
       "      <td>15</td>\n",
       "      <td>3</td>\n",
       "    </tr>\n",
       "    <tr>\n",
       "      <td>2998</td>\n",
       "      <td>14</td>\n",
       "      <td>2</td>\n",
       "    </tr>\n",
       "  </tbody>\n",
       "</table>\n",
       "<p>2999 rows × 2 columns</p>\n",
       "</div>"
      ],
      "text/plain": [
       "      years  minutes\n",
       "0        34        3\n",
       "1        37        4\n",
       "2        34        3\n",
       "3        35        1\n",
       "4        34        3\n",
       "...     ...      ...\n",
       "2994     19        4\n",
       "2995     21        1\n",
       "2996     21        1\n",
       "2997     15        3\n",
       "2998     14        2\n",
       "\n",
       "[2999 rows x 2 columns]"
      ]
     },
     "execution_count": 67,
     "metadata": {},
     "output_type": "execute_result"
    }
   ],
   "source": [
    "df.iloc[:,1:3]"
   ]
  },
  {
   "cell_type": "markdown",
   "metadata": {},
   "source": [
    "---\n",
    "### §ワーク　\"uid\" 　と　\"price\" 以外を取り出して、x という変数に入れてみてましょう。\n",
    "---\n"
   ]
  },
  {
   "cell_type": "code",
   "execution_count": 68,
   "metadata": {},
   "outputs": [],
   "source": [
    "x = df.iloc[:,1:-1]"
   ]
  },
  {
   "cell_type": "code",
   "execution_count": 69,
   "metadata": {},
   "outputs": [
    {
     "data": {
      "text/html": [
       "<div>\n",
       "<style scoped>\n",
       "    .dataframe tbody tr th:only-of-type {\n",
       "        vertical-align: middle;\n",
       "    }\n",
       "\n",
       "    .dataframe tbody tr th {\n",
       "        vertical-align: top;\n",
       "    }\n",
       "\n",
       "    .dataframe thead th {\n",
       "        text-align: right;\n",
       "    }\n",
       "</style>\n",
       "<table border=\"1\" class=\"dataframe\">\n",
       "  <thead>\n",
       "    <tr style=\"text-align: right;\">\n",
       "      <th></th>\n",
       "      <th>years</th>\n",
       "      <th>minutes</th>\n",
       "      <th>sqrm</th>\n",
       "      <th>distance</th>\n",
       "      <th>renovate</th>\n",
       "      <th>express</th>\n",
       "    </tr>\n",
       "  </thead>\n",
       "  <tbody>\n",
       "    <tr>\n",
       "      <td>0</td>\n",
       "      <td>34</td>\n",
       "      <td>3</td>\n",
       "      <td>35</td>\n",
       "      <td>2.983801</td>\n",
       "      <td>0</td>\n",
       "      <td>0</td>\n",
       "    </tr>\n",
       "    <tr>\n",
       "      <td>1</td>\n",
       "      <td>37</td>\n",
       "      <td>4</td>\n",
       "      <td>20</td>\n",
       "      <td>2.983801</td>\n",
       "      <td>0</td>\n",
       "      <td>0</td>\n",
       "    </tr>\n",
       "    <tr>\n",
       "      <td>2</td>\n",
       "      <td>34</td>\n",
       "      <td>3</td>\n",
       "      <td>30</td>\n",
       "      <td>2.983801</td>\n",
       "      <td>0</td>\n",
       "      <td>0</td>\n",
       "    </tr>\n",
       "    <tr>\n",
       "      <td>3</td>\n",
       "      <td>35</td>\n",
       "      <td>1</td>\n",
       "      <td>70</td>\n",
       "      <td>2.983801</td>\n",
       "      <td>0</td>\n",
       "      <td>0</td>\n",
       "    </tr>\n",
       "    <tr>\n",
       "      <td>4</td>\n",
       "      <td>34</td>\n",
       "      <td>3</td>\n",
       "      <td>25</td>\n",
       "      <td>2.983801</td>\n",
       "      <td>0</td>\n",
       "      <td>0</td>\n",
       "    </tr>\n",
       "    <tr>\n",
       "      <td>...</td>\n",
       "      <td>...</td>\n",
       "      <td>...</td>\n",
       "      <td>...</td>\n",
       "      <td>...</td>\n",
       "      <td>...</td>\n",
       "      <td>...</td>\n",
       "    </tr>\n",
       "    <tr>\n",
       "      <td>2994</td>\n",
       "      <td>19</td>\n",
       "      <td>4</td>\n",
       "      <td>20</td>\n",
       "      <td>25.956039</td>\n",
       "      <td>0</td>\n",
       "      <td>1</td>\n",
       "    </tr>\n",
       "    <tr>\n",
       "      <td>2995</td>\n",
       "      <td>21</td>\n",
       "      <td>1</td>\n",
       "      <td>80</td>\n",
       "      <td>25.956039</td>\n",
       "      <td>0</td>\n",
       "      <td>1</td>\n",
       "    </tr>\n",
       "    <tr>\n",
       "      <td>2996</td>\n",
       "      <td>21</td>\n",
       "      <td>1</td>\n",
       "      <td>65</td>\n",
       "      <td>25.956039</td>\n",
       "      <td>0</td>\n",
       "      <td>1</td>\n",
       "    </tr>\n",
       "    <tr>\n",
       "      <td>2997</td>\n",
       "      <td>15</td>\n",
       "      <td>3</td>\n",
       "      <td>25</td>\n",
       "      <td>25.956039</td>\n",
       "      <td>0</td>\n",
       "      <td>1</td>\n",
       "    </tr>\n",
       "    <tr>\n",
       "      <td>2998</td>\n",
       "      <td>14</td>\n",
       "      <td>2</td>\n",
       "      <td>20</td>\n",
       "      <td>25.956039</td>\n",
       "      <td>0</td>\n",
       "      <td>1</td>\n",
       "    </tr>\n",
       "  </tbody>\n",
       "</table>\n",
       "<p>2999 rows × 6 columns</p>\n",
       "</div>"
      ],
      "text/plain": [
       "      years  minutes  sqrm   distance  renovate  express\n",
       "0        34        3    35   2.983801         0        0\n",
       "1        37        4    20   2.983801         0        0\n",
       "2        34        3    30   2.983801         0        0\n",
       "3        35        1    70   2.983801         0        0\n",
       "4        34        3    25   2.983801         0        0\n",
       "...     ...      ...   ...        ...       ...      ...\n",
       "2994     19        4    20  25.956039         0        1\n",
       "2995     21        1    80  25.956039         0        1\n",
       "2996     21        1    65  25.956039         0        1\n",
       "2997     15        3    25  25.956039         0        1\n",
       "2998     14        2    20  25.956039         0        1\n",
       "\n",
       "[2999 rows x 6 columns]"
      ]
     },
     "execution_count": 69,
     "metadata": {},
     "output_type": "execute_result"
    }
   ],
   "source": [
    "x"
   ]
  },
  {
   "cell_type": "markdown",
   "metadata": {},
   "source": [
    "---\n",
    "### §ワーク \"price\" だけを取り出して、ｔ という変数に入れてみてましょう。\n",
    "---\n"
   ]
  },
  {
   "cell_type": "code",
   "execution_count": 70,
   "metadata": {},
   "outputs": [],
   "source": [
    "t = df.iloc[:,-1]"
   ]
  },
  {
   "cell_type": "markdown",
   "metadata": {},
   "source": [
    "iloc[ ]を用いてxとtに分けました。早速、両者を結合（concatenate）し、元の\n",
    "DataFrameに戻しましょう。DataFrameの結合には「pd.concat( ) 」を使用します。\n",
    "今回は横方向に結合するため、「axis=1」という値も指定する必要があります。"
   ]
  },
  {
   "cell_type": "code",
   "execution_count": 71,
   "metadata": {},
   "outputs": [
    {
     "data": {
      "text/html": [
       "<div>\n",
       "<style scoped>\n",
       "    .dataframe tbody tr th:only-of-type {\n",
       "        vertical-align: middle;\n",
       "    }\n",
       "\n",
       "    .dataframe tbody tr th {\n",
       "        vertical-align: top;\n",
       "    }\n",
       "\n",
       "    .dataframe thead th {\n",
       "        text-align: right;\n",
       "    }\n",
       "</style>\n",
       "<table border=\"1\" class=\"dataframe\">\n",
       "  <thead>\n",
       "    <tr style=\"text-align: right;\">\n",
       "      <th></th>\n",
       "      <th>years</th>\n",
       "      <th>minutes</th>\n",
       "      <th>sqrm</th>\n",
       "      <th>distance</th>\n",
       "      <th>renovate</th>\n",
       "      <th>express</th>\n",
       "      <th>price</th>\n",
       "    </tr>\n",
       "  </thead>\n",
       "  <tbody>\n",
       "    <tr>\n",
       "      <td>0</td>\n",
       "      <td>34</td>\n",
       "      <td>3</td>\n",
       "      <td>35</td>\n",
       "      <td>2.983801</td>\n",
       "      <td>0</td>\n",
       "      <td>0</td>\n",
       "      <td>24000000</td>\n",
       "    </tr>\n",
       "    <tr>\n",
       "      <td>1</td>\n",
       "      <td>37</td>\n",
       "      <td>4</td>\n",
       "      <td>20</td>\n",
       "      <td>2.983801</td>\n",
       "      <td>0</td>\n",
       "      <td>0</td>\n",
       "      <td>13000000</td>\n",
       "    </tr>\n",
       "    <tr>\n",
       "      <td>2</td>\n",
       "      <td>34</td>\n",
       "      <td>3</td>\n",
       "      <td>30</td>\n",
       "      <td>2.983801</td>\n",
       "      <td>0</td>\n",
       "      <td>0</td>\n",
       "      <td>22000000</td>\n",
       "    </tr>\n",
       "    <tr>\n",
       "      <td>3</td>\n",
       "      <td>35</td>\n",
       "      <td>1</td>\n",
       "      <td>70</td>\n",
       "      <td>2.983801</td>\n",
       "      <td>0</td>\n",
       "      <td>0</td>\n",
       "      <td>69000000</td>\n",
       "    </tr>\n",
       "    <tr>\n",
       "      <td>4</td>\n",
       "      <td>34</td>\n",
       "      <td>3</td>\n",
       "      <td>25</td>\n",
       "      <td>2.983801</td>\n",
       "      <td>0</td>\n",
       "      <td>0</td>\n",
       "      <td>21000000</td>\n",
       "    </tr>\n",
       "    <tr>\n",
       "      <td>...</td>\n",
       "      <td>...</td>\n",
       "      <td>...</td>\n",
       "      <td>...</td>\n",
       "      <td>...</td>\n",
       "      <td>...</td>\n",
       "      <td>...</td>\n",
       "      <td>...</td>\n",
       "    </tr>\n",
       "    <tr>\n",
       "      <td>2994</td>\n",
       "      <td>19</td>\n",
       "      <td>4</td>\n",
       "      <td>20</td>\n",
       "      <td>25.956039</td>\n",
       "      <td>0</td>\n",
       "      <td>1</td>\n",
       "      <td>17000000</td>\n",
       "    </tr>\n",
       "    <tr>\n",
       "      <td>2995</td>\n",
       "      <td>21</td>\n",
       "      <td>1</td>\n",
       "      <td>80</td>\n",
       "      <td>25.956039</td>\n",
       "      <td>0</td>\n",
       "      <td>1</td>\n",
       "      <td>65000000</td>\n",
       "    </tr>\n",
       "    <tr>\n",
       "      <td>2996</td>\n",
       "      <td>21</td>\n",
       "      <td>1</td>\n",
       "      <td>65</td>\n",
       "      <td>25.956039</td>\n",
       "      <td>0</td>\n",
       "      <td>1</td>\n",
       "      <td>42000000</td>\n",
       "    </tr>\n",
       "    <tr>\n",
       "      <td>2997</td>\n",
       "      <td>15</td>\n",
       "      <td>3</td>\n",
       "      <td>25</td>\n",
       "      <td>25.956039</td>\n",
       "      <td>0</td>\n",
       "      <td>1</td>\n",
       "      <td>19000000</td>\n",
       "    </tr>\n",
       "    <tr>\n",
       "      <td>2998</td>\n",
       "      <td>14</td>\n",
       "      <td>2</td>\n",
       "      <td>20</td>\n",
       "      <td>25.956039</td>\n",
       "      <td>0</td>\n",
       "      <td>1</td>\n",
       "      <td>14000000</td>\n",
       "    </tr>\n",
       "  </tbody>\n",
       "</table>\n",
       "<p>2999 rows × 7 columns</p>\n",
       "</div>"
      ],
      "text/plain": [
       "      years  minutes  sqrm   distance  renovate  express     price\n",
       "0        34        3    35   2.983801         0        0  24000000\n",
       "1        37        4    20   2.983801         0        0  13000000\n",
       "2        34        3    30   2.983801         0        0  22000000\n",
       "3        35        1    70   2.983801         0        0  69000000\n",
       "4        34        3    25   2.983801         0        0  21000000\n",
       "...     ...      ...   ...        ...       ...      ...       ...\n",
       "2994     19        4    20  25.956039         0        1  17000000\n",
       "2995     21        1    80  25.956039         0        1  65000000\n",
       "2996     21        1    65  25.956039         0        1  42000000\n",
       "2997     15        3    25  25.956039         0        1  19000000\n",
       "2998     14        2    20  25.956039         0        1  14000000\n",
       "\n",
       "[2999 rows x 7 columns]"
      ]
     },
     "execution_count": 71,
     "metadata": {},
     "output_type": "execute_result"
    }
   ],
   "source": [
    "pd.concat([x,t],axis=1)"
   ]
  },
  {
   "cell_type": "markdown",
   "metadata": {},
   "source": [
    "# 以上で終了です。お疲れさまでした！"
   ]
  },
  {
   "cell_type": "code",
   "execution_count": null,
   "metadata": {},
   "outputs": [],
   "source": []
  },
  {
   "cell_type": "markdown",
   "metadata": {},
   "source": [
    "# おまけ"
   ]
  },
  {
   "cell_type": "markdown",
   "metadata": {},
   "source": [
    "### for文は使う機会が多いです。データの前処理、繰り返し処理など、細かい処理はPythonで書いてしまった方が早い場合があります。さっとかけると、とても役に立ちます。"
   ]
  },
  {
   "cell_type": "code",
   "execution_count": 118,
   "metadata": {},
   "outputs": [],
   "source": []
  },
  {
   "cell_type": "code",
   "execution_count": 119,
   "metadata": {},
   "outputs": [],
   "source": [
    "numbers = [1,2,3,4,5,6,7]"
   ]
  },
  {
   "cell_type": "code",
   "execution_count": 123,
   "metadata": {},
   "outputs": [
    {
     "name": "stdout",
     "output_type": "stream",
     "text": [
      "1\n",
      "4\n",
      "9\n",
      "16\n",
      "25\n",
      "36\n",
      "49\n"
     ]
    }
   ],
   "source": [
    "# For 分の基礎\n",
    "for num in numbers:\n",
    "    print(num**2)\n",
    "    "
   ]
  },
  {
   "cell_type": "markdown",
   "metadata": {},
   "source": [
    "### ワーク: 以下　水星、金星、地球、火星、木星の半径(km)があるときの、それぞれの惑星の体積はいくつですか？"
   ]
  },
  {
   "cell_type": "code",
   "execution_count": 129,
   "metadata": {},
   "outputs": [],
   "source": [
    "# 体積の公式は＝　4/3 * pi * r**2  (四分の三 π R二乗)\n",
    "# πは math.pi \n",
    "import math\n",
    "planet_r = [2439.7, 6051.8, 6371.0, 3390.0, 69911 ]"
   ]
  },
  {
   "cell_type": "code",
   "execution_count": 144,
   "metadata": {},
   "outputs": [],
   "source": [
    "# For文を使ったとき"
   ]
  },
  {
   "cell_type": "code",
   "execution_count": 145,
   "metadata": {
    "scrolled": true
   },
   "outputs": [
    {
     "name": "stdout",
     "output_type": "stream",
     "text": [
      "24932249.351347562\n",
      "153411438.89303437\n",
      "170021490.63659608\n",
      "48137995.91242568\n",
      "20472912856.908886\n"
     ]
    }
   ],
   "source": [
    "planet_volume = []\n",
    "for r in  planet_r:\n",
    "    volume = 4/3*math.pi*r**2\n",
    "    print(volume)\n",
    "    planet_volume.append(volume)"
   ]
  },
  {
   "cell_type": "code",
   "execution_count": 146,
   "metadata": {},
   "outputs": [],
   "source": [
    "# arrayを使ったとき"
   ]
  },
  {
   "cell_type": "code",
   "execution_count": 143,
   "metadata": {},
   "outputs": [
    {
     "data": {
      "text/plain": [
       "array([2.49322494e+07, 1.53411439e+08, 1.70021491e+08, 4.81379959e+07,\n",
       "       2.04729129e+10])"
      ]
     },
     "execution_count": 143,
     "metadata": {},
     "output_type": "execute_result"
    }
   ],
   "source": [
    "planet_r_a = np.array(planet_r)\n",
    "planet_volume_a = 4/3*math.pi*planet_r_a**2\n",
    "planet_volume_a"
   ]
  },
  {
   "cell_type": "markdown",
   "metadata": {},
   "source": [
    "### ヘッダーに余計な列が入っているファイルを何とかする方法\n",
    "### ヘッダーが2行になっていたり余計な行が入っていると、BI製品はあちゃーとなります。そんな時、pythonで整形してしまうという手があります。"
   ]
  },
  {
   "cell_type": "code",
   "execution_count": 72,
   "metadata": {},
   "outputs": [],
   "source": [
    "df = pd.read_csv('./data/売上/売上東京202004.csv')"
   ]
  },
  {
   "cell_type": "code",
   "execution_count": 73,
   "metadata": {},
   "outputs": [
    {
     "data": {
      "text/html": [
       "<div>\n",
       "<style scoped>\n",
       "    .dataframe tbody tr th:only-of-type {\n",
       "        vertical-align: middle;\n",
       "    }\n",
       "\n",
       "    .dataframe tbody tr th {\n",
       "        vertical-align: top;\n",
       "    }\n",
       "\n",
       "    .dataframe thead th {\n",
       "        text-align: right;\n",
       "    }\n",
       "</style>\n",
       "<table border=\"1\" class=\"dataframe\">\n",
       "  <thead>\n",
       "    <tr style=\"text-align: right;\">\n",
       "      <th></th>\n",
       "      <th>#2020年４月の売上</th>\n",
       "      <th>Unnamed: 1</th>\n",
       "      <th>Unnamed: 2</th>\n",
       "      <th>Unnamed: 3</th>\n",
       "      <th>Unnamed: 4</th>\n",
       "    </tr>\n",
       "  </thead>\n",
       "  <tbody>\n",
       "    <tr>\n",
       "      <td>0</td>\n",
       "      <td>日付</td>\n",
       "      <td>地区</td>\n",
       "      <td>顧客CD</td>\n",
       "      <td>商品CD</td>\n",
       "      <td>個数</td>\n",
       "    </tr>\n",
       "    <tr>\n",
       "      <td>1</td>\n",
       "      <td>2020/4/1</td>\n",
       "      <td>東京</td>\n",
       "      <td>C01</td>\n",
       "      <td>P01</td>\n",
       "      <td>10</td>\n",
       "    </tr>\n",
       "    <tr>\n",
       "      <td>2</td>\n",
       "      <td>2020/4/2</td>\n",
       "      <td>東京</td>\n",
       "      <td>C-01</td>\n",
       "      <td>P02</td>\n",
       "      <td>20</td>\n",
       "    </tr>\n",
       "    <tr>\n",
       "      <td>3</td>\n",
       "      <td>2020/4/3</td>\n",
       "      <td>東京</td>\n",
       "      <td>C001</td>\n",
       "      <td>P03</td>\n",
       "      <td>30</td>\n",
       "    </tr>\n",
       "    <tr>\n",
       "      <td>4</td>\n",
       "      <td>2020/4/4</td>\n",
       "      <td>東京</td>\n",
       "      <td>C02</td>\n",
       "      <td>P01</td>\n",
       "      <td>40</td>\n",
       "    </tr>\n",
       "    <tr>\n",
       "      <td>5</td>\n",
       "      <td>2020/4/5</td>\n",
       "      <td>東京</td>\n",
       "      <td>C03</td>\n",
       "      <td>P02</td>\n",
       "      <td>50</td>\n",
       "    </tr>\n",
       "    <tr>\n",
       "      <td>6</td>\n",
       "      <td>2020/4/6</td>\n",
       "      <td>東京</td>\n",
       "      <td>C02</td>\n",
       "      <td>P03</td>\n",
       "      <td>60</td>\n",
       "    </tr>\n",
       "    <tr>\n",
       "      <td>7</td>\n",
       "      <td>2020/4/7</td>\n",
       "      <td>東京</td>\n",
       "      <td>C01</td>\n",
       "      <td>P01</td>\n",
       "      <td>70</td>\n",
       "    </tr>\n",
       "    <tr>\n",
       "      <td>8</td>\n",
       "      <td>2020/4/8</td>\n",
       "      <td>東京</td>\n",
       "      <td>C03</td>\n",
       "      <td>P02</td>\n",
       "      <td>80</td>\n",
       "    </tr>\n",
       "    <tr>\n",
       "      <td>9</td>\n",
       "      <td>2020/4/9</td>\n",
       "      <td>東京</td>\n",
       "      <td>C02</td>\n",
       "      <td>P03</td>\n",
       "      <td>90</td>\n",
       "    </tr>\n",
       "    <tr>\n",
       "      <td>10</td>\n",
       "      <td>2020/4/10</td>\n",
       "      <td>東京</td>\n",
       "      <td>C01</td>\n",
       "      <td>P01</td>\n",
       "      <td>100</td>\n",
       "    </tr>\n",
       "  </tbody>\n",
       "</table>\n",
       "</div>"
      ],
      "text/plain": [
       "   #2020年４月の売上 Unnamed: 1 Unnamed: 2 Unnamed: 3 Unnamed: 4\n",
       "0           日付         地区       顧客CD       商品CD         個数\n",
       "1     2020/4/1         東京        C01        P01         10\n",
       "2     2020/4/2         東京       C-01        P02         20\n",
       "3     2020/4/3         東京       C001        P03         30\n",
       "4     2020/4/4         東京        C02        P01         40\n",
       "5     2020/4/5         東京        C03        P02         50\n",
       "6     2020/4/6         東京        C02        P03         60\n",
       "7     2020/4/7         東京        C01        P01         70\n",
       "8     2020/4/8         東京        C03        P02         80\n",
       "9     2020/4/9         東京        C02        P03         90\n",
       "10   2020/4/10         東京        C01        P01        100"
      ]
     },
     "execution_count": 73,
     "metadata": {},
     "output_type": "execute_result"
    }
   ],
   "source": [
    "df"
   ]
  },
  {
   "cell_type": "code",
   "execution_count": 75,
   "metadata": {},
   "outputs": [
    {
     "data": {
      "text/plain": [
       "['日付', '地区', '顧客CD', '商品CD', '個数']"
      ]
     },
     "execution_count": 75,
     "metadata": {},
     "output_type": "execute_result"
    }
   ],
   "source": [
    "# 列名だけ取り出す。\n",
    "columname = list(df.iloc[0,])\n",
    "columname"
   ]
  },
  {
   "cell_type": "code",
   "execution_count": 225,
   "metadata": {},
   "outputs": [
    {
     "data": {
      "text/html": [
       "<div>\n",
       "<style scoped>\n",
       "    .dataframe tbody tr th:only-of-type {\n",
       "        vertical-align: middle;\n",
       "    }\n",
       "\n",
       "    .dataframe tbody tr th {\n",
       "        vertical-align: top;\n",
       "    }\n",
       "\n",
       "    .dataframe thead th {\n",
       "        text-align: right;\n",
       "    }\n",
       "</style>\n",
       "<table border=\"1\" class=\"dataframe\">\n",
       "  <thead>\n",
       "    <tr style=\"text-align: right;\">\n",
       "      <th></th>\n",
       "      <th>#2020年４月の売上</th>\n",
       "      <th>Unnamed: 1</th>\n",
       "      <th>Unnamed: 2</th>\n",
       "      <th>Unnamed: 3</th>\n",
       "      <th>Unnamed: 4</th>\n",
       "    </tr>\n",
       "  </thead>\n",
       "  <tbody>\n",
       "    <tr>\n",
       "      <td>1</td>\n",
       "      <td>2020/4/1</td>\n",
       "      <td>東京</td>\n",
       "      <td>C01</td>\n",
       "      <td>P01</td>\n",
       "      <td>10</td>\n",
       "    </tr>\n",
       "    <tr>\n",
       "      <td>2</td>\n",
       "      <td>2020/4/2</td>\n",
       "      <td>東京</td>\n",
       "      <td>C-01</td>\n",
       "      <td>P02</td>\n",
       "      <td>20</td>\n",
       "    </tr>\n",
       "    <tr>\n",
       "      <td>3</td>\n",
       "      <td>2020/4/3</td>\n",
       "      <td>東京</td>\n",
       "      <td>C001</td>\n",
       "      <td>P03</td>\n",
       "      <td>30</td>\n",
       "    </tr>\n",
       "    <tr>\n",
       "      <td>4</td>\n",
       "      <td>2020/4/4</td>\n",
       "      <td>東京</td>\n",
       "      <td>C02</td>\n",
       "      <td>P01</td>\n",
       "      <td>40</td>\n",
       "    </tr>\n",
       "    <tr>\n",
       "      <td>5</td>\n",
       "      <td>2020/4/5</td>\n",
       "      <td>東京</td>\n",
       "      <td>C03</td>\n",
       "      <td>P02</td>\n",
       "      <td>50</td>\n",
       "    </tr>\n",
       "    <tr>\n",
       "      <td>6</td>\n",
       "      <td>2020/4/6</td>\n",
       "      <td>東京</td>\n",
       "      <td>C02</td>\n",
       "      <td>P03</td>\n",
       "      <td>60</td>\n",
       "    </tr>\n",
       "    <tr>\n",
       "      <td>7</td>\n",
       "      <td>2020/4/7</td>\n",
       "      <td>東京</td>\n",
       "      <td>C01</td>\n",
       "      <td>P01</td>\n",
       "      <td>70</td>\n",
       "    </tr>\n",
       "    <tr>\n",
       "      <td>8</td>\n",
       "      <td>2020/4/8</td>\n",
       "      <td>東京</td>\n",
       "      <td>C03</td>\n",
       "      <td>P02</td>\n",
       "      <td>80</td>\n",
       "    </tr>\n",
       "    <tr>\n",
       "      <td>9</td>\n",
       "      <td>2020/4/9</td>\n",
       "      <td>東京</td>\n",
       "      <td>C02</td>\n",
       "      <td>P03</td>\n",
       "      <td>90</td>\n",
       "    </tr>\n",
       "    <tr>\n",
       "      <td>10</td>\n",
       "      <td>2020/4/10</td>\n",
       "      <td>東京</td>\n",
       "      <td>C01</td>\n",
       "      <td>P01</td>\n",
       "      <td>100</td>\n",
       "    </tr>\n",
       "  </tbody>\n",
       "</table>\n",
       "</div>"
      ],
      "text/plain": [
       "   #2020年４月の売上 Unnamed: 1 Unnamed: 2 Unnamed: 3 Unnamed: 4\n",
       "1     2020/4/1         東京        C01        P01         10\n",
       "2     2020/4/2         東京       C-01        P02         20\n",
       "3     2020/4/3         東京       C001        P03         30\n",
       "4     2020/4/4         東京        C02        P01         40\n",
       "5     2020/4/5         東京        C03        P02         50\n",
       "6     2020/4/6         東京        C02        P03         60\n",
       "7     2020/4/7         東京        C01        P01         70\n",
       "8     2020/4/8         東京        C03        P02         80\n",
       "9     2020/4/9         東京        C02        P03         90\n",
       "10   2020/4/10         東京        C01        P01        100"
      ]
     },
     "execution_count": 225,
     "metadata": {},
     "output_type": "execute_result"
    }
   ],
   "source": [
    "# 本当に必要なデータ部分を抜き出す\n",
    "df = df.iloc[1:,:]\n",
    "df"
   ]
  },
  {
   "cell_type": "code",
   "execution_count": 226,
   "metadata": {},
   "outputs": [],
   "source": [
    "# 列名を変更する\n",
    "df.columns=columname"
   ]
  },
  {
   "cell_type": "code",
   "execution_count": 230,
   "metadata": {},
   "outputs": [
    {
     "data": {
      "text/html": [
       "<div>\n",
       "<style scoped>\n",
       "    .dataframe tbody tr th:only-of-type {\n",
       "        vertical-align: middle;\n",
       "    }\n",
       "\n",
       "    .dataframe tbody tr th {\n",
       "        vertical-align: top;\n",
       "    }\n",
       "\n",
       "    .dataframe thead th {\n",
       "        text-align: right;\n",
       "    }\n",
       "</style>\n",
       "<table border=\"1\" class=\"dataframe\">\n",
       "  <thead>\n",
       "    <tr style=\"text-align: right;\">\n",
       "      <th></th>\n",
       "      <th>日付</th>\n",
       "      <th>地区</th>\n",
       "      <th>顧客CD</th>\n",
       "      <th>商品CD</th>\n",
       "      <th>個数</th>\n",
       "    </tr>\n",
       "  </thead>\n",
       "  <tbody>\n",
       "    <tr>\n",
       "      <td>1</td>\n",
       "      <td>2020/4/1</td>\n",
       "      <td>東京</td>\n",
       "      <td>C01</td>\n",
       "      <td>P01</td>\n",
       "      <td>10</td>\n",
       "    </tr>\n",
       "    <tr>\n",
       "      <td>2</td>\n",
       "      <td>2020/4/2</td>\n",
       "      <td>東京</td>\n",
       "      <td>C-01</td>\n",
       "      <td>P02</td>\n",
       "      <td>20</td>\n",
       "    </tr>\n",
       "    <tr>\n",
       "      <td>3</td>\n",
       "      <td>2020/4/3</td>\n",
       "      <td>東京</td>\n",
       "      <td>C001</td>\n",
       "      <td>P03</td>\n",
       "      <td>30</td>\n",
       "    </tr>\n",
       "    <tr>\n",
       "      <td>4</td>\n",
       "      <td>2020/4/4</td>\n",
       "      <td>東京</td>\n",
       "      <td>C02</td>\n",
       "      <td>P01</td>\n",
       "      <td>40</td>\n",
       "    </tr>\n",
       "    <tr>\n",
       "      <td>5</td>\n",
       "      <td>2020/4/5</td>\n",
       "      <td>東京</td>\n",
       "      <td>C03</td>\n",
       "      <td>P02</td>\n",
       "      <td>50</td>\n",
       "    </tr>\n",
       "    <tr>\n",
       "      <td>6</td>\n",
       "      <td>2020/4/6</td>\n",
       "      <td>東京</td>\n",
       "      <td>C02</td>\n",
       "      <td>P03</td>\n",
       "      <td>60</td>\n",
       "    </tr>\n",
       "    <tr>\n",
       "      <td>7</td>\n",
       "      <td>2020/4/7</td>\n",
       "      <td>東京</td>\n",
       "      <td>C01</td>\n",
       "      <td>P01</td>\n",
       "      <td>70</td>\n",
       "    </tr>\n",
       "    <tr>\n",
       "      <td>8</td>\n",
       "      <td>2020/4/8</td>\n",
       "      <td>東京</td>\n",
       "      <td>C03</td>\n",
       "      <td>P02</td>\n",
       "      <td>80</td>\n",
       "    </tr>\n",
       "    <tr>\n",
       "      <td>9</td>\n",
       "      <td>2020/4/9</td>\n",
       "      <td>東京</td>\n",
       "      <td>C02</td>\n",
       "      <td>P03</td>\n",
       "      <td>90</td>\n",
       "    </tr>\n",
       "    <tr>\n",
       "      <td>10</td>\n",
       "      <td>2020/4/10</td>\n",
       "      <td>東京</td>\n",
       "      <td>C01</td>\n",
       "      <td>P01</td>\n",
       "      <td>100</td>\n",
       "    </tr>\n",
       "  </tbody>\n",
       "</table>\n",
       "</div>"
      ],
      "text/plain": [
       "           日付  地区  顧客CD 商品CD   個数\n",
       "1    2020/4/1  東京   C01  P01   10\n",
       "2    2020/4/2  東京  C-01  P02   20\n",
       "3    2020/4/3  東京  C001  P03   30\n",
       "4    2020/4/4  東京   C02  P01   40\n",
       "5    2020/4/5  東京   C03  P02   50\n",
       "6    2020/4/6  東京   C02  P03   60\n",
       "7    2020/4/7  東京   C01  P01   70\n",
       "8    2020/4/8  東京   C03  P02   80\n",
       "9    2020/4/9  東京   C02  P03   90\n",
       "10  2020/4/10  東京   C01  P01  100"
      ]
     },
     "execution_count": 230,
     "metadata": {},
     "output_type": "execute_result"
    }
   ],
   "source": [
    "#ファイルについては出来上がり。\n",
    "df"
   ]
  },
  {
   "cell_type": "markdown",
   "metadata": {},
   "source": [
    "### ディレクトリのファイルに対してまとめて処理する場合\n"
   ]
  },
  {
   "cell_type": "code",
   "execution_count": 76,
   "metadata": {},
   "outputs": [
    {
     "name": "stdout",
     "output_type": "stream",
     "text": [
      "売上東京202004.csv\n",
      "売上東京202005.csv\n",
      "売上東京202006.csv\n"
     ]
    }
   ],
   "source": [
    "# ファイル名の取得\n",
    "import glob\n",
    "import os\n",
    "\n",
    "files = []\n",
    "\n",
    "for f in glob.glob('./data/売上/*.csv'):\n",
    "    print(os.path.split(f)[1])\n",
    "    files.append(f)"
   ]
  },
  {
   "cell_type": "code",
   "execution_count": 77,
   "metadata": {},
   "outputs": [
    {
     "data": {
      "text/plain": [
       "['./data/売上\\\\売上東京202004.csv',\n",
       " './data/売上\\\\売上東京202005.csv',\n",
       " './data/売上\\\\売上東京202006.csv']"
      ]
     },
     "execution_count": 77,
     "metadata": {},
     "output_type": "execute_result"
    }
   ],
   "source": [
    "files"
   ]
  },
  {
   "cell_type": "code",
   "execution_count": 78,
   "metadata": {},
   "outputs": [
    {
     "name": "stdout",
     "output_type": "stream",
     "text": [
      "売上東京202004.csv\n"
     ]
    }
   ],
   "source": [
    "# まずは一つのファイルでやってみる\n",
    "filepath = files[0]\n",
    "pd.read_csv(filepath)\n",
    "df = pd.read_csv(filepath)\n",
    "\n",
    "filename = os.path.split(filepath)[1]\n",
    "print(filename)\n",
    "\n",
    "# 列名だけ取り出す。\n",
    "columname = list(df.iloc[0,])\n",
    "\n",
    "#本当に必要なデータ部分を抜き出す\n",
    "df = df.iloc[1:,:]\n",
    "\n",
    "# 列名を変更する\n",
    "df.columns=columname\n",
    "\n",
    "# 書き出す\n",
    "df.to_csv('./data/売上整形/'+filename , index=False)\n"
   ]
  },
  {
   "cell_type": "code",
   "execution_count": 79,
   "metadata": {},
   "outputs": [
    {
     "name": "stdout",
     "output_type": "stream",
     "text": [
      "./data/売上\\売上東京202004.csv\n",
      "./data/売上\\売上東京202005.csv\n",
      "./data/売上\\売上東京202006.csv\n"
     ]
    }
   ],
   "source": [
    "#for文で回してみる (からっぽで)\n",
    "\n",
    "for filepath in files:\n",
    "    print(filepath)"
   ]
  },
  {
   "cell_type": "code",
   "execution_count": 80,
   "metadata": {},
   "outputs": [],
   "source": [
    "#for文で回してみる　（中身を入れてみる）\n",
    "\n",
    "for filepath in files:\n",
    "    #print(filepath)\n",
    "    \n",
    "    #filepath = files[0]\n",
    "    \n",
    "    pd.read_csv(filepath)\n",
    "    df = pd.read_csv(filepath)\n",
    "\n",
    "    filename = os.path.split(filepath)[1]\n",
    "    #print(filename)\n",
    "\n",
    "    # 列名だけ取り出す。\n",
    "    columname = list(df.iloc[0,])\n",
    "\n",
    "    #本当に必要なデータ部分を抜き出す\n",
    "    df = df.iloc[1:,:]\n",
    "\n",
    "    # 列名を変更する\n",
    "    df.columns=columname\n",
    "\n",
    "    # 書き出す\n",
    "    df.to_csv('./data/売上整形/'+filename , index=False)"
   ]
  },
  {
   "cell_type": "code",
   "execution_count": null,
   "metadata": {},
   "outputs": [],
   "source": []
  },
  {
   "cell_type": "code",
   "execution_count": null,
   "metadata": {},
   "outputs": [],
   "source": []
  }
 ],
 "metadata": {
  "kernelspec": {
   "display_name": "Python 3",
   "language": "python",
   "name": "python3"
  },
  "language_info": {
   "codemirror_mode": {
    "name": "ipython",
    "version": 3
   },
   "file_extension": ".py",
   "mimetype": "text/x-python",
   "name": "python",
   "nbconvert_exporter": "python",
   "pygments_lexer": "ipython3",
   "version": "3.7.4"
  }
 },
 "nbformat": 4,
 "nbformat_minor": 2
}
